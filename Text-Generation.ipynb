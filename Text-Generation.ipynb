{
 "cells": [
  {
   "cell_type": "code",
   "execution_count": 1,
   "id": "ea3dc82d",
   "metadata": {},
   "outputs": [],
   "source": [
    "text=open('book1.txt','r',encoding='utf-8').read()\n",
    "text=text.lower()"
   ]
  },
  {
   "cell_type": "code",
   "execution_count": 2,
   "id": "6b253937",
   "metadata": {},
   "outputs": [],
   "source": [
    "sentences=text.split('\\n')"
   ]
  },
  {
   "cell_type": "code",
   "execution_count": 5,
   "id": "e196836a",
   "metadata": {},
   "outputs": [],
   "source": [
    "import tensorflow as tf\n",
    "import keras \n",
    "from keras.preprocessing.text import Tokenizer\n",
    "from keras.preprocessing.sequence import pad_sequences"
   ]
  },
  {
   "cell_type": "code",
   "execution_count": 6,
   "id": "82d08502",
   "metadata": {},
   "outputs": [],
   "source": [
    "tokenizer = Tokenizer(oov_token='<UNK')"
   ]
  },
  {
   "cell_type": "code",
   "execution_count": 7,
   "id": "63918a96",
   "metadata": {},
   "outputs": [
    {
     "data": {
      "text/plain": [
       "8921"
      ]
     },
     "execution_count": 7,
     "metadata": {},
     "output_type": "execute_result"
    }
   ],
   "source": [
    "tokenizer.fit_on_texts(sentences)\n",
    "vocab_size=len(tokenizer.word_index)\n",
    "vocab_size"
   ]
  },
  {
   "cell_type": "code",
   "execution_count": 8,
   "id": "61b64452",
   "metadata": {},
   "outputs": [],
   "source": [
    "sequences=tokenizer.texts_to_sequences(sentences)"
   ]
  },
  {
   "cell_type": "code",
   "execution_count": 9,
   "id": "b3ba1921",
   "metadata": {},
   "outputs": [],
   "source": [
    "input_sequences=[]\n",
    "for sequence in sequences:\n",
    "    for i in range (1,len(sequence)):\n",
    "        n_gram_sequence=sequence[:i+1]\n",
    "        input_sequences.append(n_gram_sequence)"
   ]
  },
  {
   "cell_type": "code",
   "execution_count": 10,
   "id": "b986d625",
   "metadata": {},
   "outputs": [
    {
     "name": "stdout",
     "output_type": "stream",
     "text": [
      "[4776, 158] [4776, 158, 331]\n"
     ]
    }
   ],
   "source": [
    "print (input_sequences[0],input_sequences[1])"
   ]
  },
  {
   "cell_type": "code",
   "execution_count": 11,
   "id": "0adf3043",
   "metadata": {},
   "outputs": [],
   "source": [
    "max_seq_len=max([len(seq) for seq in input_sequences])"
   ]
  },
  {
   "cell_type": "code",
   "execution_count": 12,
   "id": "bb750e53",
   "metadata": {},
   "outputs": [
    {
     "data": {
      "text/plain": [
       "20"
      ]
     },
     "execution_count": 12,
     "metadata": {},
     "output_type": "execute_result"
    }
   ],
   "source": [
    "max_seq_len"
   ]
  },
  {
   "cell_type": "code",
   "execution_count": 13,
   "id": "5603de78",
   "metadata": {},
   "outputs": [],
   "source": [
    "padded_sequences=pad_sequences(input_sequences,maxlen=max_seq_len)"
   ]
  },
  {
   "cell_type": "code",
   "execution_count": 14,
   "id": "5f5df564",
   "metadata": {},
   "outputs": [
    {
     "name": "stdout",
     "output_type": "stream",
     "text": [
      "[   0    0    0    0    0    0    0    0    0    0    0    0    0    0\n",
      "    0    0    0    0 4776  158] [   0    0    0    0    0    0    0    0    0    0    0    0    0    0\n",
      "    0    0    0 4776  158  331]\n"
     ]
    }
   ],
   "source": [
    "print(padded_sequences[0],padded_sequences[1])"
   ]
  },
  {
   "cell_type": "code",
   "execution_count": 15,
   "id": "980f2d3a",
   "metadata": {},
   "outputs": [],
   "source": [
    "import numpy as np\n",
    "padded_sequences=np.array(padded_sequences)"
   ]
  },
  {
   "cell_type": "code",
   "execution_count": 18,
   "id": "90d217d2",
   "metadata": {},
   "outputs": [],
   "source": [
    "x=padded_sequences[:,:-1]\n",
    "labels=padded_sequences[:,-1]"
   ]
  },
  {
   "cell_type": "code",
   "execution_count": 22,
   "id": "b586c2f2",
   "metadata": {},
   "outputs": [],
   "source": [
    "y=tf.keras.utils.to_categorical(labels,num_classes=vocab_size+1)"
   ]
  },
  {
   "cell_type": "code",
   "execution_count": 24,
   "id": "e49cf188",
   "metadata": {},
   "outputs": [],
   "source": [
    "from tensorflow.keras.models import Sequential\n",
    "from tensorflow.keras.layers import Embedding,Bidirectional,LSTM,Dense\n",
    "from tensorflow.keras.optimizers import Adam"
   ]
  },
  {
   "cell_type": "code",
   "execution_count": 25,
   "id": "36ef8f34",
   "metadata": {},
   "outputs": [
    {
     "name": "stdout",
     "output_type": "stream",
     "text": [
      "WARNING:tensorflow:From C:\\Users\\User\\anaconda3\\Lib\\site-packages\\keras\\src\\backend.py:873: The name tf.get_default_graph is deprecated. Please use tf.compat.v1.get_default_graph instead.\n",
      "\n",
      "Model: \"sequential\"\n",
      "_________________________________________________________________\n",
      " Layer (type)                Output Shape              Param #   \n",
      "=================================================================\n",
      " embedding (Embedding)       (None, 19, 100)           892200    \n",
      "                                                                 \n",
      " bidirectional (Bidirection  (None, 512)               731136    \n",
      " al)                                                             \n",
      "                                                                 \n",
      " dense (Dense)               (None, 8922)              4576986   \n",
      "                                                                 \n",
      "=================================================================\n",
      "Total params: 6200322 (23.65 MB)\n",
      "Trainable params: 6200322 (23.65 MB)\n",
      "Non-trainable params: 0 (0.00 Byte)\n",
      "_________________________________________________________________\n"
     ]
    }
   ],
   "source": [
    "model =Sequential()\n",
    "model.add(Embedding(vocab_size+1,100,input_length=max_seq_len-1))\n",
    "model.add(Bidirectional(LSTM(256)))\n",
    "model.add(Dense(vocab_size+1,activation='softmax'))\n",
    "adam=Adam(learning_rate=0.01)\n",
    "model.compile(loss='categorical_crossentropy',optimizer=adam,metrics=['acc'])\n",
    "model.summary()"
   ]
  },
  {
   "cell_type": "code",
   "execution_count": 26,
   "id": "243dd588",
   "metadata": {},
   "outputs": [
    {
     "data": {
      "text/plain": [
       "(101519, 19)"
      ]
     },
     "execution_count": 26,
     "metadata": {},
     "output_type": "execute_result"
    }
   ],
   "source": [
    "from tensorflow.keras.callbacks import EarlyStopping\n",
    "es=EarlyStopping(monitor='acc',min_delta=0.01)\n",
    "x.shape"
   ]
  },
  {
   "cell_type": "code",
   "execution_count": 27,
   "id": "2b70ad93",
   "metadata": {},
   "outputs": [
    {
     "name": "stdout",
     "output_type": "stream",
     "text": [
      "Epoch 1/50\n",
      "WARNING:tensorflow:From C:\\Users\\User\\anaconda3\\Lib\\site-packages\\keras\\src\\utils\\tf_utils.py:492: The name tf.ragged.RaggedTensorValue is deprecated. Please use tf.compat.v1.ragged.RaggedTensorValue instead.\n",
      "\n",
      "WARNING:tensorflow:From C:\\Users\\User\\anaconda3\\Lib\\site-packages\\keras\\src\\engine\\base_layer_utils.py:384: The name tf.executing_eagerly_outside_functions is deprecated. Please use tf.compat.v1.executing_eagerly_outside_functions instead.\n",
      "\n",
      "199/199 [==============================] - 199s 946ms/step - loss: 6.2026 - acc: 0.0843\n",
      "Epoch 2/50\n",
      "199/199 [==============================] - 190s 955ms/step - loss: 5.3161 - acc: 0.1417\n",
      "Epoch 3/50\n",
      "199/199 [==============================] - 204s 1s/step - loss: 4.7787 - acc: 0.1719\n",
      "Epoch 4/50\n",
      "199/199 [==============================] - 206s 1s/step - loss: 4.2692 - acc: 0.2021\n",
      "Epoch 5/50\n",
      "199/199 [==============================] - 204s 1s/step - loss: 3.7723 - acc: 0.2435\n",
      "Epoch 6/50\n",
      "199/199 [==============================] - 206s 1s/step - loss: 3.3247 - acc: 0.2973\n",
      "Epoch 7/50\n",
      "199/199 [==============================] - 206s 1s/step - loss: 2.9567 - acc: 0.3483\n",
      "Epoch 8/50\n",
      "199/199 [==============================] - 204s 1s/step - loss: 2.6744 - acc: 0.3936\n",
      "Epoch 9/50\n",
      "199/199 [==============================] - 205s 1s/step - loss: 2.4026 - acc: 0.4412\n",
      "Epoch 10/50\n",
      "199/199 [==============================] - 206s 1s/step - loss: 2.1930 - acc: 0.4807\n",
      "Epoch 11/50\n",
      "199/199 [==============================] - 207s 1s/step - loss: 2.0146 - acc: 0.5136\n",
      "Epoch 12/50\n",
      "199/199 [==============================] - 127s 638ms/step - loss: 1.8779 - acc: 0.5406\n",
      "Epoch 13/50\n",
      "199/199 [==============================] - 87s 439ms/step - loss: 1.7525 - acc: 0.5663\n",
      "Epoch 14/50\n",
      "199/199 [==============================] - 89s 449ms/step - loss: 1.6620 - acc: 0.5851\n",
      "Epoch 15/50\n",
      "199/199 [==============================] - 92s 464ms/step - loss: 1.5922 - acc: 0.5974\n",
      "Epoch 16/50\n",
      "199/199 [==============================] - 91s 460ms/step - loss: 1.5204 - acc: 0.6103\n",
      "Epoch 17/50\n",
      "199/199 [==============================] - 95s 478ms/step - loss: 1.4713 - acc: 0.6219\n",
      "Epoch 18/50\n",
      "199/199 [==============================] - 88s 444ms/step - loss: 1.4297 - acc: 0.6293\n"
     ]
    },
    {
     "data": {
      "text/plain": [
       "<keras.src.callbacks.History at 0x256437ec2d0>"
      ]
     },
     "execution_count": 27,
     "metadata": {},
     "output_type": "execute_result"
    }
   ],
   "source": [
    "model.fit(x,y,epochs=50,verbose=1,batch_size=512,callbacks=[es])"
   ]
  },
  {
   "cell_type": "code",
   "execution_count": null,
   "id": "da40ca50",
   "metadata": {},
   "outputs": [],
   "source": []
  }
 ],
 "metadata": {
  "kernelspec": {
   "display_name": "Python 3 (ipykernel)",
   "language": "python",
   "name": "python3"
  },
  "language_info": {
   "codemirror_mode": {
    "name": "ipython",
    "version": 3
   },
   "file_extension": ".py",
   "mimetype": "text/x-python",
   "name": "python",
   "nbconvert_exporter": "python",
   "pygments_lexer": "ipython3",
   "version": "3.11.5"
  }
 },
 "nbformat": 4,
 "nbformat_minor": 5
}
